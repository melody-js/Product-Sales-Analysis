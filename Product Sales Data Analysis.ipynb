{
 "cells": [
  {
   "cell_type": "markdown",
   "id": "9ecd4a59",
   "metadata": {},
   "source": [
    "<h1>Product Sales Analysis Objective\n"
   ]
  },
  {
   "cell_type": "markdown",
   "id": "6fc1e936",
   "metadata": {},
   "source": [
    "<p>\n",
    "\n",
    "Q: What was the best month for sales? How much was earned that month?\n",
    "\n",
    "Q: What product sold the most? Why do you think it sold the most?\n",
    "\n",
    "Q: What City had the highest number of sales?\n",
    "\n",
    "Q: What products are most often sold together?\n"
   ]
  },
  {
   "cell_type": "markdown",
   "id": "5a9a8d31",
   "metadata": {},
   "source": [
    "___"
   ]
  },
  {
   "cell_type": "markdown",
   "id": "383a608a",
   "metadata": {},
   "source": [
    "<h2>Import Libraries"
   ]
  },
  {
   "cell_type": "code",
   "execution_count": 242,
   "id": "88c963a1",
   "metadata": {},
   "outputs": [],
   "source": [
    "import pandas as pd\n",
    "import numpy as np\n",
    "import glob\n",
    "import os \n",
    "\n",
    "import matplotlib.pyplot as plt \n",
    "%matplotlib inline \n",
    "\n",
    "import seaborn as sns "
   ]
  },
  {
   "cell_type": "markdown",
   "id": "3327c272",
   "metadata": {},
   "source": [
    "<h2>Merge 12 Monthly CSVs"
   ]
  },
  {
   "cell_type": "code",
   "execution_count": 243,
   "id": "8e7c56b9",
   "metadata": {},
   "outputs": [
    {
     "data": {
      "text/plain": [
       "['Sales_December_2019.csv',\n",
       " 'Sales_April_2019.csv',\n",
       " 'Sales_February_2019.csv',\n",
       " 'Sales_March_2019.csv',\n",
       " 'Sales_August_2019.csv',\n",
       " 'Sales_May_2019.csv',\n",
       " 'Sales_November_2019.csv',\n",
       " 'Sales_October_2019.csv',\n",
       " 'Sales_January_2019.csv',\n",
       " 'Sales_September_2019.csv',\n",
       " 'Sales_July_2019.csv',\n",
       " 'Sales_June_2019.csv']"
      ]
     },
     "execution_count": 243,
     "metadata": {},
     "output_type": "execute_result"
    }
   ],
   "source": [
    "# read the csv file into a dataframe\n",
    "df = pd.read_csv(\"/Users/melody/Sales_January_2019.csv\")\n",
    "df\n",
    "\n",
    "# read the path\n",
    "file_path = \"/Users/melody/\"\n",
    "\n",
    "# list all the files from the directory\n",
    "file_list = os.listdir(file_path)\n",
    "file_list\n",
    "\n",
    "# list only the csv files from the directory\n",
    "csv_files = glob.glob('*.{}'.format('csv'))\n",
    "csv_files"
   ]
  },
  {
   "cell_type": "code",
   "execution_count": 244,
   "id": "bf95db0b",
   "metadata": {},
   "outputs": [
    {
     "data": {
      "text/html": [
       "<div>\n",
       "<style scoped>\n",
       "    .dataframe tbody tr th:only-of-type {\n",
       "        vertical-align: middle;\n",
       "    }\n",
       "\n",
       "    .dataframe tbody tr th {\n",
       "        vertical-align: top;\n",
       "    }\n",
       "\n",
       "    .dataframe thead th {\n",
       "        text-align: right;\n",
       "    }\n",
       "</style>\n",
       "<table border=\"1\" class=\"dataframe\">\n",
       "  <thead>\n",
       "    <tr style=\"text-align: right;\">\n",
       "      <th></th>\n",
       "      <th>Order ID</th>\n",
       "      <th>Product</th>\n",
       "      <th>Quantity Ordered</th>\n",
       "      <th>Price Each</th>\n",
       "      <th>Order Date</th>\n",
       "      <th>Purchase Address</th>\n",
       "    </tr>\n",
       "  </thead>\n",
       "  <tbody>\n",
       "    <tr>\n",
       "      <th>0</th>\n",
       "      <td>295665</td>\n",
       "      <td>Macbook Pro Laptop</td>\n",
       "      <td>1</td>\n",
       "      <td>1700</td>\n",
       "      <td>12/30/19 00:01</td>\n",
       "      <td>136 Church St, New York City, NY 10001</td>\n",
       "    </tr>\n",
       "    <tr>\n",
       "      <th>1</th>\n",
       "      <td>295666</td>\n",
       "      <td>LG Washing Machine</td>\n",
       "      <td>1</td>\n",
       "      <td>600.0</td>\n",
       "      <td>12/29/19 07:03</td>\n",
       "      <td>562 2nd St, New York City, NY 10001</td>\n",
       "    </tr>\n",
       "    <tr>\n",
       "      <th>2</th>\n",
       "      <td>295667</td>\n",
       "      <td>USB-C Charging Cable</td>\n",
       "      <td>1</td>\n",
       "      <td>11.95</td>\n",
       "      <td>12/12/19 18:21</td>\n",
       "      <td>277 Main St, New York City, NY 10001</td>\n",
       "    </tr>\n",
       "    <tr>\n",
       "      <th>3</th>\n",
       "      <td>295668</td>\n",
       "      <td>27in FHD Monitor</td>\n",
       "      <td>1</td>\n",
       "      <td>149.99</td>\n",
       "      <td>12/22/19 15:13</td>\n",
       "      <td>410 6th St, San Francisco, CA 94016</td>\n",
       "    </tr>\n",
       "    <tr>\n",
       "      <th>4</th>\n",
       "      <td>295669</td>\n",
       "      <td>USB-C Charging Cable</td>\n",
       "      <td>1</td>\n",
       "      <td>11.95</td>\n",
       "      <td>12/18/19 12:38</td>\n",
       "      <td>43 Hill St, Atlanta, GA 30301</td>\n",
       "    </tr>\n",
       "    <tr>\n",
       "      <th>...</th>\n",
       "      <td>...</td>\n",
       "      <td>...</td>\n",
       "      <td>...</td>\n",
       "      <td>...</td>\n",
       "      <td>...</td>\n",
       "      <td>...</td>\n",
       "    </tr>\n",
       "    <tr>\n",
       "      <th>186845</th>\n",
       "      <td>222905</td>\n",
       "      <td>AAA Batteries (4-pack)</td>\n",
       "      <td>1</td>\n",
       "      <td>2.99</td>\n",
       "      <td>06/07/19 19:02</td>\n",
       "      <td>795 Pine St, Boston, MA 02215</td>\n",
       "    </tr>\n",
       "    <tr>\n",
       "      <th>186846</th>\n",
       "      <td>222906</td>\n",
       "      <td>27in FHD Monitor</td>\n",
       "      <td>1</td>\n",
       "      <td>149.99</td>\n",
       "      <td>06/01/19 19:29</td>\n",
       "      <td>495 North St, New York City, NY 10001</td>\n",
       "    </tr>\n",
       "    <tr>\n",
       "      <th>186847</th>\n",
       "      <td>222907</td>\n",
       "      <td>USB-C Charging Cable</td>\n",
       "      <td>1</td>\n",
       "      <td>11.95</td>\n",
       "      <td>06/22/19 18:57</td>\n",
       "      <td>319 Ridge St, San Francisco, CA 94016</td>\n",
       "    </tr>\n",
       "    <tr>\n",
       "      <th>186848</th>\n",
       "      <td>222908</td>\n",
       "      <td>USB-C Charging Cable</td>\n",
       "      <td>1</td>\n",
       "      <td>11.95</td>\n",
       "      <td>06/26/19 18:35</td>\n",
       "      <td>916 Main St, San Francisco, CA 94016</td>\n",
       "    </tr>\n",
       "    <tr>\n",
       "      <th>186849</th>\n",
       "      <td>222909</td>\n",
       "      <td>AAA Batteries (4-pack)</td>\n",
       "      <td>1</td>\n",
       "      <td>2.99</td>\n",
       "      <td>06/25/19 14:33</td>\n",
       "      <td>209 11th St, Atlanta, GA 30301</td>\n",
       "    </tr>\n",
       "  </tbody>\n",
       "</table>\n",
       "<p>186850 rows × 6 columns</p>\n",
       "</div>"
      ],
      "text/plain": [
       "       Order ID                 Product Quantity Ordered Price Each  \\\n",
       "0        295665      Macbook Pro Laptop                1       1700   \n",
       "1        295666      LG Washing Machine                1      600.0   \n",
       "2        295667    USB-C Charging Cable                1      11.95   \n",
       "3        295668        27in FHD Monitor                1     149.99   \n",
       "4        295669    USB-C Charging Cable                1      11.95   \n",
       "...         ...                     ...              ...        ...   \n",
       "186845   222905  AAA Batteries (4-pack)                1       2.99   \n",
       "186846   222906        27in FHD Monitor                1     149.99   \n",
       "186847   222907    USB-C Charging Cable                1      11.95   \n",
       "186848   222908    USB-C Charging Cable                1      11.95   \n",
       "186849   222909  AAA Batteries (4-pack)                1       2.99   \n",
       "\n",
       "            Order Date                        Purchase Address  \n",
       "0       12/30/19 00:01  136 Church St, New York City, NY 10001  \n",
       "1       12/29/19 07:03     562 2nd St, New York City, NY 10001  \n",
       "2       12/12/19 18:21    277 Main St, New York City, NY 10001  \n",
       "3       12/22/19 15:13     410 6th St, San Francisco, CA 94016  \n",
       "4       12/18/19 12:38           43 Hill St, Atlanta, GA 30301  \n",
       "...                ...                                     ...  \n",
       "186845  06/07/19 19:02           795 Pine St, Boston, MA 02215  \n",
       "186846  06/01/19 19:29   495 North St, New York City, NY 10001  \n",
       "186847  06/22/19 18:57   319 Ridge St, San Francisco, CA 94016  \n",
       "186848  06/26/19 18:35    916 Main St, San Francisco, CA 94016  \n",
       "186849  06/25/19 14:33          209 11th St, Atlanta, GA 30301  \n",
       "\n",
       "[186850 rows x 6 columns]"
      ]
     },
     "execution_count": 244,
     "metadata": {},
     "output_type": "execute_result"
    }
   ],
   "source": [
    "# concatenate all 12 csvs together into one csv\n",
    "\n",
    "df_concat = pd.concat([pd.read_csv(f) for f in csv_files ], ignore_index=True)\n",
    "df_concat\n"
   ]
  },
  {
   "cell_type": "code",
   "execution_count": 245,
   "id": "17fd774c",
   "metadata": {},
   "outputs": [],
   "source": [
    "# export combined csv\n",
    "df_concat.to_csv( \"2019Data.csv\", index=False, encoding='utf-8-sig')"
   ]
  },
  {
   "cell_type": "markdown",
   "id": "951e2f3f",
   "metadata": {},
   "source": [
    "<h2>Data Audit"
   ]
  },
  {
   "cell_type": "code",
   "execution_count": 246,
   "id": "332888f8",
   "metadata": {},
   "outputs": [
    {
     "data": {
      "text/plain": [
       "Index(['Order ID', 'Product', 'Quantity Ordered', 'Price Each', 'Order Date',\n",
       "       'Purchase Address'],\n",
       "      dtype='object')"
      ]
     },
     "execution_count": 246,
     "metadata": {},
     "output_type": "execute_result"
    }
   ],
   "source": [
    "# import combined csv\n",
    "df = pd.read_csv(\"/Users/melody/2019Data.csv\")\n",
    "\n",
    "# columns present in the dataset \n",
    "df.columns"
   ]
  },
  {
   "cell_type": "code",
   "execution_count": 247,
   "id": "829376fe",
   "metadata": {},
   "outputs": [
    {
     "name": "stdout",
     "output_type": "stream",
     "text": [
      "<class 'pandas.core.frame.DataFrame'>\n",
      "RangeIndex: 186850 entries, 0 to 186849\n",
      "Data columns (total 6 columns):\n",
      " #   Column            Non-Null Count   Dtype \n",
      "---  ------            --------------   ----- \n",
      " 0   Order ID          186305 non-null  object\n",
      " 1   Product           186305 non-null  object\n",
      " 2   Quantity Ordered  186305 non-null  object\n",
      " 3   Price Each        186305 non-null  object\n",
      " 4   Order Date        186305 non-null  object\n",
      " 5   Purchase Address  186305 non-null  object\n",
      "dtypes: object(6)\n",
      "memory usage: 8.6+ MB\n"
     ]
    }
   ],
   "source": [
    "# a concise summary of the dataset \n",
    "df.info()"
   ]
  },
  {
   "cell_type": "code",
   "execution_count": 248,
   "id": "1f223572",
   "metadata": {},
   "outputs": [
    {
     "data": {
      "text/plain": [
       "Order ID            545\n",
       "Product             545\n",
       "Quantity Ordered    545\n",
       "Price Each          545\n",
       "Order Date          545\n",
       "Purchase Address    545\n",
       "dtype: int64"
      ]
     },
     "execution_count": 248,
     "metadata": {},
     "output_type": "execute_result"
    }
   ],
   "source": [
    "# check missing values \n",
    "df.isnull().sum()"
   ]
  },
  {
   "cell_type": "code",
   "execution_count": 249,
   "id": "1999b54a",
   "metadata": {},
   "outputs": [
    {
     "data": {
      "text/html": [
       "<div>\n",
       "<style scoped>\n",
       "    .dataframe tbody tr th:only-of-type {\n",
       "        vertical-align: middle;\n",
       "    }\n",
       "\n",
       "    .dataframe tbody tr th {\n",
       "        vertical-align: top;\n",
       "    }\n",
       "\n",
       "    .dataframe thead th {\n",
       "        text-align: right;\n",
       "    }\n",
       "</style>\n",
       "<table border=\"1\" class=\"dataframe\">\n",
       "  <thead>\n",
       "    <tr style=\"text-align: right;\">\n",
       "      <th></th>\n",
       "      <th>Order ID</th>\n",
       "      <th>Product</th>\n",
       "      <th>Quantity Ordered</th>\n",
       "      <th>Price Each</th>\n",
       "      <th>Order Date</th>\n",
       "      <th>Purchase Address</th>\n",
       "    </tr>\n",
       "  </thead>\n",
       "  <tbody>\n",
       "    <tr>\n",
       "      <th>0</th>\n",
       "      <td>295665</td>\n",
       "      <td>Macbook Pro Laptop</td>\n",
       "      <td>1</td>\n",
       "      <td>1700</td>\n",
       "      <td>12/30/19 00:01</td>\n",
       "      <td>136 Church St, New York City, NY 10001</td>\n",
       "    </tr>\n",
       "    <tr>\n",
       "      <th>1</th>\n",
       "      <td>295666</td>\n",
       "      <td>LG Washing Machine</td>\n",
       "      <td>1</td>\n",
       "      <td>600.0</td>\n",
       "      <td>12/29/19 07:03</td>\n",
       "      <td>562 2nd St, New York City, NY 10001</td>\n",
       "    </tr>\n",
       "    <tr>\n",
       "      <th>2</th>\n",
       "      <td>295667</td>\n",
       "      <td>USB-C Charging Cable</td>\n",
       "      <td>1</td>\n",
       "      <td>11.95</td>\n",
       "      <td>12/12/19 18:21</td>\n",
       "      <td>277 Main St, New York City, NY 10001</td>\n",
       "    </tr>\n",
       "    <tr>\n",
       "      <th>3</th>\n",
       "      <td>295668</td>\n",
       "      <td>27in FHD Monitor</td>\n",
       "      <td>1</td>\n",
       "      <td>149.99</td>\n",
       "      <td>12/22/19 15:13</td>\n",
       "      <td>410 6th St, San Francisco, CA 94016</td>\n",
       "    </tr>\n",
       "    <tr>\n",
       "      <th>4</th>\n",
       "      <td>295669</td>\n",
       "      <td>USB-C Charging Cable</td>\n",
       "      <td>1</td>\n",
       "      <td>11.95</td>\n",
       "      <td>12/18/19 12:38</td>\n",
       "      <td>43 Hill St, Atlanta, GA 30301</td>\n",
       "    </tr>\n",
       "    <tr>\n",
       "      <th>...</th>\n",
       "      <td>...</td>\n",
       "      <td>...</td>\n",
       "      <td>...</td>\n",
       "      <td>...</td>\n",
       "      <td>...</td>\n",
       "      <td>...</td>\n",
       "    </tr>\n",
       "    <tr>\n",
       "      <th>186845</th>\n",
       "      <td>222905</td>\n",
       "      <td>AAA Batteries (4-pack)</td>\n",
       "      <td>1</td>\n",
       "      <td>2.99</td>\n",
       "      <td>06/07/19 19:02</td>\n",
       "      <td>795 Pine St, Boston, MA 02215</td>\n",
       "    </tr>\n",
       "    <tr>\n",
       "      <th>186846</th>\n",
       "      <td>222906</td>\n",
       "      <td>27in FHD Monitor</td>\n",
       "      <td>1</td>\n",
       "      <td>149.99</td>\n",
       "      <td>06/01/19 19:29</td>\n",
       "      <td>495 North St, New York City, NY 10001</td>\n",
       "    </tr>\n",
       "    <tr>\n",
       "      <th>186847</th>\n",
       "      <td>222907</td>\n",
       "      <td>USB-C Charging Cable</td>\n",
       "      <td>1</td>\n",
       "      <td>11.95</td>\n",
       "      <td>06/22/19 18:57</td>\n",
       "      <td>319 Ridge St, San Francisco, CA 94016</td>\n",
       "    </tr>\n",
       "    <tr>\n",
       "      <th>186848</th>\n",
       "      <td>222908</td>\n",
       "      <td>USB-C Charging Cable</td>\n",
       "      <td>1</td>\n",
       "      <td>11.95</td>\n",
       "      <td>06/26/19 18:35</td>\n",
       "      <td>916 Main St, San Francisco, CA 94016</td>\n",
       "    </tr>\n",
       "    <tr>\n",
       "      <th>186849</th>\n",
       "      <td>222909</td>\n",
       "      <td>AAA Batteries (4-pack)</td>\n",
       "      <td>1</td>\n",
       "      <td>2.99</td>\n",
       "      <td>06/25/19 14:33</td>\n",
       "      <td>209 11th St, Atlanta, GA 30301</td>\n",
       "    </tr>\n",
       "  </tbody>\n",
       "</table>\n",
       "<p>185950 rows × 6 columns</p>\n",
       "</div>"
      ],
      "text/plain": [
       "       Order ID                 Product Quantity Ordered Price Each  \\\n",
       "0        295665      Macbook Pro Laptop                1       1700   \n",
       "1        295666      LG Washing Machine                1      600.0   \n",
       "2        295667    USB-C Charging Cable                1      11.95   \n",
       "3        295668        27in FHD Monitor                1     149.99   \n",
       "4        295669    USB-C Charging Cable                1      11.95   \n",
       "...         ...                     ...              ...        ...   \n",
       "186845   222905  AAA Batteries (4-pack)                1       2.99   \n",
       "186846   222906        27in FHD Monitor                1     149.99   \n",
       "186847   222907    USB-C Charging Cable                1      11.95   \n",
       "186848   222908    USB-C Charging Cable                1      11.95   \n",
       "186849   222909  AAA Batteries (4-pack)                1       2.99   \n",
       "\n",
       "            Order Date                        Purchase Address  \n",
       "0       12/30/19 00:01  136 Church St, New York City, NY 10001  \n",
       "1       12/29/19 07:03     562 2nd St, New York City, NY 10001  \n",
       "2       12/12/19 18:21    277 Main St, New York City, NY 10001  \n",
       "3       12/22/19 15:13     410 6th St, San Francisco, CA 94016  \n",
       "4       12/18/19 12:38           43 Hill St, Atlanta, GA 30301  \n",
       "...                ...                                     ...  \n",
       "186845  06/07/19 19:02           795 Pine St, Boston, MA 02215  \n",
       "186846  06/01/19 19:29   495 North St, New York City, NY 10001  \n",
       "186847  06/22/19 18:57   319 Ridge St, San Francisco, CA 94016  \n",
       "186848  06/26/19 18:35    916 Main St, San Francisco, CA 94016  \n",
       "186849  06/25/19 14:33          209 11th St, Atlanta, GA 30301  \n",
       "\n",
       "[185950 rows x 6 columns]"
      ]
     },
     "execution_count": 249,
     "metadata": {},
     "output_type": "execute_result"
    }
   ],
   "source": [
    "# get rid of the missing values\n",
    "df = df.dropna(how='all')\n",
    "\"NaN Value:\"\n",
    "df[df.isna().any(axis=1)]\n",
    "# future warning! ValueError: invalid literal for int() with base 10: 'Or'\n",
    "\"Clean Future Warnings:\"\n",
    "df = df[df['Order Date'].str[0:2] != 'Or']\n",
    "df"
   ]
  },
  {
   "cell_type": "code",
   "execution_count": 250,
   "id": "a0b2e64c",
   "metadata": {},
   "outputs": [
    {
     "data": {
      "text/plain": [
       "Order ID            0\n",
       "Product             0\n",
       "Quantity Ordered    0\n",
       "Price Each          0\n",
       "Order Date          0\n",
       "Purchase Address    0\n",
       "dtype: int64"
      ]
     },
     "execution_count": 250,
     "metadata": {},
     "output_type": "execute_result"
    }
   ],
   "source": [
    "# check again for missing values \n",
    "df.isnull().sum()\n"
   ]
  },
  {
   "cell_type": "code",
   "execution_count": 251,
   "id": "930e5232",
   "metadata": {},
   "outputs": [
    {
     "data": {
      "text/html": [
       "<div>\n",
       "<style scoped>\n",
       "    .dataframe tbody tr th:only-of-type {\n",
       "        vertical-align: middle;\n",
       "    }\n",
       "\n",
       "    .dataframe tbody tr th {\n",
       "        vertical-align: top;\n",
       "    }\n",
       "\n",
       "    .dataframe thead th {\n",
       "        text-align: right;\n",
       "    }\n",
       "</style>\n",
       "<table border=\"1\" class=\"dataframe\">\n",
       "  <thead>\n",
       "    <tr style=\"text-align: right;\">\n",
       "      <th></th>\n",
       "      <th>Order ID</th>\n",
       "      <th>Product</th>\n",
       "      <th>Quantity Ordered</th>\n",
       "      <th>Price Each</th>\n",
       "      <th>Order Date</th>\n",
       "      <th>Purchase Address</th>\n",
       "    </tr>\n",
       "  </thead>\n",
       "  <tbody>\n",
       "    <tr>\n",
       "      <th>0</th>\n",
       "      <td>295665</td>\n",
       "      <td>Macbook Pro Laptop</td>\n",
       "      <td>1</td>\n",
       "      <td>1700.00</td>\n",
       "      <td>2019-12-30 00:01:00</td>\n",
       "      <td>136 Church St, New York City, NY 10001</td>\n",
       "    </tr>\n",
       "    <tr>\n",
       "      <th>1</th>\n",
       "      <td>295666</td>\n",
       "      <td>LG Washing Machine</td>\n",
       "      <td>1</td>\n",
       "      <td>600.00</td>\n",
       "      <td>2019-12-29 07:03:00</td>\n",
       "      <td>562 2nd St, New York City, NY 10001</td>\n",
       "    </tr>\n",
       "    <tr>\n",
       "      <th>2</th>\n",
       "      <td>295667</td>\n",
       "      <td>USB-C Charging Cable</td>\n",
       "      <td>1</td>\n",
       "      <td>11.95</td>\n",
       "      <td>2019-12-12 18:21:00</td>\n",
       "      <td>277 Main St, New York City, NY 10001</td>\n",
       "    </tr>\n",
       "    <tr>\n",
       "      <th>3</th>\n",
       "      <td>295668</td>\n",
       "      <td>27in FHD Monitor</td>\n",
       "      <td>1</td>\n",
       "      <td>149.99</td>\n",
       "      <td>2019-12-22 15:13:00</td>\n",
       "      <td>410 6th St, San Francisco, CA 94016</td>\n",
       "    </tr>\n",
       "    <tr>\n",
       "      <th>4</th>\n",
       "      <td>295669</td>\n",
       "      <td>USB-C Charging Cable</td>\n",
       "      <td>1</td>\n",
       "      <td>11.95</td>\n",
       "      <td>2019-12-18 12:38:00</td>\n",
       "      <td>43 Hill St, Atlanta, GA 30301</td>\n",
       "    </tr>\n",
       "    <tr>\n",
       "      <th>...</th>\n",
       "      <td>...</td>\n",
       "      <td>...</td>\n",
       "      <td>...</td>\n",
       "      <td>...</td>\n",
       "      <td>...</td>\n",
       "      <td>...</td>\n",
       "    </tr>\n",
       "    <tr>\n",
       "      <th>186845</th>\n",
       "      <td>222905</td>\n",
       "      <td>AAA Batteries (4-pack)</td>\n",
       "      <td>1</td>\n",
       "      <td>2.99</td>\n",
       "      <td>2019-06-07 19:02:00</td>\n",
       "      <td>795 Pine St, Boston, MA 02215</td>\n",
       "    </tr>\n",
       "    <tr>\n",
       "      <th>186846</th>\n",
       "      <td>222906</td>\n",
       "      <td>27in FHD Monitor</td>\n",
       "      <td>1</td>\n",
       "      <td>149.99</td>\n",
       "      <td>2019-06-01 19:29:00</td>\n",
       "      <td>495 North St, New York City, NY 10001</td>\n",
       "    </tr>\n",
       "    <tr>\n",
       "      <th>186847</th>\n",
       "      <td>222907</td>\n",
       "      <td>USB-C Charging Cable</td>\n",
       "      <td>1</td>\n",
       "      <td>11.95</td>\n",
       "      <td>2019-06-22 18:57:00</td>\n",
       "      <td>319 Ridge St, San Francisco, CA 94016</td>\n",
       "    </tr>\n",
       "    <tr>\n",
       "      <th>186848</th>\n",
       "      <td>222908</td>\n",
       "      <td>USB-C Charging Cable</td>\n",
       "      <td>1</td>\n",
       "      <td>11.95</td>\n",
       "      <td>2019-06-26 18:35:00</td>\n",
       "      <td>916 Main St, San Francisco, CA 94016</td>\n",
       "    </tr>\n",
       "    <tr>\n",
       "      <th>186849</th>\n",
       "      <td>222909</td>\n",
       "      <td>AAA Batteries (4-pack)</td>\n",
       "      <td>1</td>\n",
       "      <td>2.99</td>\n",
       "      <td>2019-06-25 14:33:00</td>\n",
       "      <td>209 11th St, Atlanta, GA 30301</td>\n",
       "    </tr>\n",
       "  </tbody>\n",
       "</table>\n",
       "<p>185950 rows × 6 columns</p>\n",
       "</div>"
      ],
      "text/plain": [
       "       Order ID                 Product  Quantity Ordered  Price Each  \\\n",
       "0        295665      Macbook Pro Laptop                 1     1700.00   \n",
       "1        295666      LG Washing Machine                 1      600.00   \n",
       "2        295667    USB-C Charging Cable                 1       11.95   \n",
       "3        295668        27in FHD Monitor                 1      149.99   \n",
       "4        295669    USB-C Charging Cable                 1       11.95   \n",
       "...         ...                     ...               ...         ...   \n",
       "186845   222905  AAA Batteries (4-pack)                 1        2.99   \n",
       "186846   222906        27in FHD Monitor                 1      149.99   \n",
       "186847   222907    USB-C Charging Cable                 1       11.95   \n",
       "186848   222908    USB-C Charging Cable                 1       11.95   \n",
       "186849   222909  AAA Batteries (4-pack)                 1        2.99   \n",
       "\n",
       "                Order Date                        Purchase Address  \n",
       "0      2019-12-30 00:01:00  136 Church St, New York City, NY 10001  \n",
       "1      2019-12-29 07:03:00     562 2nd St, New York City, NY 10001  \n",
       "2      2019-12-12 18:21:00    277 Main St, New York City, NY 10001  \n",
       "3      2019-12-22 15:13:00     410 6th St, San Francisco, CA 94016  \n",
       "4      2019-12-18 12:38:00           43 Hill St, Atlanta, GA 30301  \n",
       "...                    ...                                     ...  \n",
       "186845 2019-06-07 19:02:00           795 Pine St, Boston, MA 02215  \n",
       "186846 2019-06-01 19:29:00   495 North St, New York City, NY 10001  \n",
       "186847 2019-06-22 18:57:00   319 Ridge St, San Francisco, CA 94016  \n",
       "186848 2019-06-26 18:35:00    916 Main St, San Francisco, CA 94016  \n",
       "186849 2019-06-25 14:33:00          209 11th St, Atlanta, GA 30301  \n",
       "\n",
       "[185950 rows x 6 columns]"
      ]
     },
     "execution_count": 251,
     "metadata": {},
     "output_type": "execute_result"
    }
   ],
   "source": [
    "# perfect! we've got rid of the missing values \n",
    "\n",
    "# convert Order Date to datetime \n",
    "df['Order Date'] = pd.to_datetime(df['Order Date'])\n",
    "df\n",
    "# convert Quantity Ordered to numbers\n",
    "df['Quantity Ordered'] = pd.to_numeric(df['Quantity Ordered'])\n",
    "df\n",
    "\n",
    "# convert Price Each to numbers\n",
    "df['Price Each'] = pd.to_numeric(df['Price Each'])\n",
    "df"
   ]
  },
  {
   "cell_type": "code",
   "execution_count": 252,
   "id": "1f6f4ae2",
   "metadata": {},
   "outputs": [],
   "source": [
    "# add Sales column to the dataset \n",
    "df['Sales'] = df['Quantity Ordered'] * df['Price Each']\n",
    "\n",
    "# split the address and get cities and state columns from it \n",
    "\n",
    "def get_city(address):\n",
    "    return address.split(',')[1]\n",
    "    \n",
    "def get_state(address):\n",
    "    return address.split(',')[2].split(' ')[1]\n",
    "\n",
    "df['Cities'] = df['Purchase Address'].apply(lambda x: f\"{get_city(x)} ({get_state(x)})\") \n",
    "    "
   ]
  },
  {
   "cell_type": "markdown",
   "id": "d7d09676",
   "metadata": {},
   "source": [
    "<h2>Exploratory Data Analysis"
   ]
  },
  {
   "cell_type": "markdown",
   "id": "74869f7d",
   "metadata": {},
   "source": [
    "<h3>What is the overall sales trend?"
   ]
  },
  {
   "cell_type": "code",
   "execution_count": 193,
   "id": "1e8358e9",
   "metadata": {},
   "outputs": [
    {
     "data": {
      "text/plain": [
       "Timestamp('2019-01-01 03:07:00')"
      ]
     },
     "execution_count": 193,
     "metadata": {},
     "output_type": "execute_result"
    }
   ],
   "source": [
    "# the earliest order date on the dataset\n",
    "df['Order Date'].min()"
   ]
  },
  {
   "cell_type": "code",
   "execution_count": 194,
   "id": "4af80d61",
   "metadata": {},
   "outputs": [
    {
     "data": {
      "text/plain": [
       "Timestamp('2020-01-01 05:13:00')"
      ]
     },
     "execution_count": 194,
     "metadata": {},
     "output_type": "execute_result"
    }
   ],
   "source": [
    "# the latest order date on the dataset\n",
    "df['Order Date'].max()"
   ]
  },
  {
   "cell_type": "code",
   "execution_count": 213,
   "id": "c2a0dbb2",
   "metadata": {},
   "outputs": [],
   "source": [
    "# group by month \n",
    "df['month'] = df['Order Date'].apply(lambda x: x.strftime('%y-%m'))\n",
    "df_month = df.groupby('month').sum('Sales').reset_index()\n"
   ]
  },
  {
   "cell_type": "code",
   "execution_count": 196,
   "id": "1da2509d",
   "metadata": {},
   "outputs": [],
   "source": [
    "# to drop the last row which consists a bit of data from year 2020\n",
    "df_month = df_month[:-1] "
   ]
  },
  {
   "cell_type": "code",
   "execution_count": 211,
   "id": "d23c1839",
   "metadata": {},
   "outputs": [
    {
     "data": {
      "image/png": "[encoded data removed]",
      "text/plain": [
       "<Figure size 1728x1008 with 1 Axes>"
      ]
     },
     "metadata": {
      "needs_background": "light"
     },
     "output_type": "display_data"
    }
   ],
   "source": [
    "# plot monthly sales trend \n",
    "plt.figure(figsize=(24, 14))\n",
    "plt.plot(df_month['month'],df_month['Sales'])\n",
    "plt.xlabel('Month')\n",
    "plt.ylabel('Sales in Millions')\n",
    "plt.title('Monthly Sales in 2019',  weight=\"bold\", \n",
    "    fontsize=35, \n",
    "    pad=30 )\n",
    "plt.show()"
   ]
  },
  {
   "cell_type": "markdown",
   "id": "d2a89d9d",
   "metadata": {},
   "source": [
    "<h4>The best month for sales is December, which has a total sales of USD$9,226,886.68."
   ]
  },
  {
   "cell_type": "markdown",
   "id": "03c46aac",
   "metadata": {},
   "source": [
    "______"
   ]
  },
  {
   "cell_type": "markdown",
   "id": "93bea431",
   "metadata": {},
   "source": [
    "<h3>Which are the top 5 products by sales?"
   ]
  },
  {
   "cell_type": "code",
   "execution_count": 198,
   "id": "5b7baa4d",
   "metadata": {},
   "outputs": [
    {
     "data": {
      "text/html": [
       "<div>\n",
       "<style scoped>\n",
       "    .dataframe tbody tr th:only-of-type {\n",
       "        vertical-align: middle;\n",
       "    }\n",
       "\n",
       "    .dataframe tbody tr th {\n",
       "        vertical-align: top;\n",
       "    }\n",
       "\n",
       "    .dataframe thead th {\n",
       "        text-align: right;\n",
       "    }\n",
       "</style>\n",
       "<table border=\"1\" class=\"dataframe\">\n",
       "  <thead>\n",
       "    <tr style=\"text-align: right;\">\n",
       "      <th></th>\n",
       "      <th>Sales</th>\n",
       "    </tr>\n",
       "    <tr>\n",
       "      <th>Product</th>\n",
       "      <th></th>\n",
       "    </tr>\n",
       "  </thead>\n",
       "  <tbody>\n",
       "    <tr>\n",
       "      <th>20in Monitor</th>\n",
       "      <td>908297.42</td>\n",
       "    </tr>\n",
       "    <tr>\n",
       "      <th>27in 4K Gaming Monitor</th>\n",
       "      <td>4870195.12</td>\n",
       "    </tr>\n",
       "    <tr>\n",
       "      <th>27in FHD Monitor</th>\n",
       "      <td>2264849.00</td>\n",
       "    </tr>\n",
       "    <tr>\n",
       "      <th>34in Ultrawide Monitor</th>\n",
       "      <td>4711116.02</td>\n",
       "    </tr>\n",
       "    <tr>\n",
       "      <th>AA Batteries (4-pack)</th>\n",
       "      <td>212236.80</td>\n",
       "    </tr>\n",
       "    <tr>\n",
       "      <th>AAA Batteries (4-pack)</th>\n",
       "      <td>185481.66</td>\n",
       "    </tr>\n",
       "    <tr>\n",
       "      <th>Apple Airpods Headphones</th>\n",
       "      <td>4698300.00</td>\n",
       "    </tr>\n",
       "    <tr>\n",
       "      <th>Bose SoundSport Headphones</th>\n",
       "      <td>2691130.86</td>\n",
       "    </tr>\n",
       "    <tr>\n",
       "      <th>Flatscreen TV</th>\n",
       "      <td>2891400.00</td>\n",
       "    </tr>\n",
       "    <tr>\n",
       "      <th>Google Phone</th>\n",
       "      <td>6638400.00</td>\n",
       "    </tr>\n",
       "    <tr>\n",
       "      <th>LG Dryer</th>\n",
       "      <td>775200.00</td>\n",
       "    </tr>\n",
       "    <tr>\n",
       "      <th>LG Washing Machine</th>\n",
       "      <td>799200.00</td>\n",
       "    </tr>\n",
       "    <tr>\n",
       "      <th>Lightning Charging Cable</th>\n",
       "      <td>694188.30</td>\n",
       "    </tr>\n",
       "    <tr>\n",
       "      <th>Macbook Pro Laptop</th>\n",
       "      <td>16075200.00</td>\n",
       "    </tr>\n",
       "    <tr>\n",
       "      <th>ThinkPad Laptop</th>\n",
       "      <td>8259917.40</td>\n",
       "    </tr>\n",
       "    <tr>\n",
       "      <th>USB-C Charging Cable</th>\n",
       "      <td>573002.50</td>\n",
       "    </tr>\n",
       "    <tr>\n",
       "      <th>Vareebadd Phone</th>\n",
       "      <td>1654400.00</td>\n",
       "    </tr>\n",
       "    <tr>\n",
       "      <th>Wired Headphones</th>\n",
       "      <td>492956.86</td>\n",
       "    </tr>\n",
       "    <tr>\n",
       "      <th>iPhone</th>\n",
       "      <td>9588600.00</td>\n",
       "    </tr>\n",
       "  </tbody>\n",
       "</table>\n",
       "</div>"
      ],
      "text/plain": [
       "                                  Sales\n",
       "Product                                \n",
       "20in Monitor                  908297.42\n",
       "27in 4K Gaming Monitor       4870195.12\n",
       "27in FHD Monitor             2264849.00\n",
       "34in Ultrawide Monitor       4711116.02\n",
       "AA Batteries (4-pack)         212236.80\n",
       "AAA Batteries (4-pack)        185481.66\n",
       "Apple Airpods Headphones     4698300.00\n",
       "Bose SoundSport Headphones   2691130.86\n",
       "Flatscreen TV                2891400.00\n",
       "Google Phone                 6638400.00\n",
       "LG Dryer                      775200.00\n",
       "LG Washing Machine            799200.00\n",
       "Lightning Charging Cable      694188.30\n",
       "Macbook Pro Laptop          16075200.00\n",
       "ThinkPad Laptop              8259917.40\n",
       "USB-C Charging Cable          573002.50\n",
       "Vareebadd Phone              1654400.00\n",
       "Wired Headphones              492956.86\n",
       "iPhone                       9588600.00"
      ]
     },
     "execution_count": 198,
     "metadata": {},
     "output_type": "execute_result"
    }
   ],
   "source": [
    "# group product column \n",
    "product_sales = pd.DataFrame(df.groupby('Product').sum()['Sales'])\n",
    "product_sales\n"
   ]
  },
  {
   "cell_type": "code",
   "execution_count": 199,
   "id": "e06016da",
   "metadata": {},
   "outputs": [
    {
     "data": {
      "text/html": [
       "<div>\n",
       "<style scoped>\n",
       "    .dataframe tbody tr th:only-of-type {\n",
       "        vertical-align: middle;\n",
       "    }\n",
       "\n",
       "    .dataframe tbody tr th {\n",
       "        vertical-align: top;\n",
       "    }\n",
       "\n",
       "    .dataframe thead th {\n",
       "        text-align: right;\n",
       "    }\n",
       "</style>\n",
       "<table border=\"1\" class=\"dataframe\">\n",
       "  <thead>\n",
       "    <tr style=\"text-align: right;\">\n",
       "      <th></th>\n",
       "      <th>Sales</th>\n",
       "    </tr>\n",
       "    <tr>\n",
       "      <th>Product</th>\n",
       "      <th></th>\n",
       "    </tr>\n",
       "  </thead>\n",
       "  <tbody>\n",
       "    <tr>\n",
       "      <th>Macbook Pro Laptop</th>\n",
       "      <td>16075200.00</td>\n",
       "    </tr>\n",
       "    <tr>\n",
       "      <th>iPhone</th>\n",
       "      <td>9588600.00</td>\n",
       "    </tr>\n",
       "    <tr>\n",
       "      <th>ThinkPad Laptop</th>\n",
       "      <td>8259917.40</td>\n",
       "    </tr>\n",
       "    <tr>\n",
       "      <th>Google Phone</th>\n",
       "      <td>6638400.00</td>\n",
       "    </tr>\n",
       "    <tr>\n",
       "      <th>27in 4K Gaming Monitor</th>\n",
       "      <td>4870195.12</td>\n",
       "    </tr>\n",
       "  </tbody>\n",
       "</table>\n",
       "</div>"
      ],
      "text/plain": [
       "                              Sales\n",
       "Product                            \n",
       "Macbook Pro Laptop      16075200.00\n",
       "iPhone                   9588600.00\n",
       "ThinkPad Laptop          8259917.40\n",
       "Google Phone             6638400.00\n",
       "27in 4K Gaming Monitor   4870195.12"
      ]
     },
     "execution_count": 199,
     "metadata": {},
     "output_type": "execute_result"
    }
   ],
   "source": [
    "# sort from top sales to low sales \n",
    "product_sales = product_sales.sort_values('Sales', ascending=False)\n",
    "\n",
    "# top 5 most products with the most sales \n",
    "product_sales[:5]"
   ]
  },
  {
   "cell_type": "markdown",
   "id": "c80af2b2",
   "metadata": {},
   "source": [
    "<h4> The top 5 products with the most sales are Macbook Pro Laptop, Iphone, ThinkPad Laptop, Google Phone, and 27in Gaming Monitor. "
   ]
  },
  {
   "cell_type": "markdown",
   "id": "25141d39",
   "metadata": {},
   "source": [
    "_____"
   ]
  },
  {
   "cell_type": "markdown",
   "id": "5619d5f4",
   "metadata": {},
   "source": [
    "<h3> Which are the most selling products (Quantity)?"
   ]
  },
  {
   "cell_type": "code",
   "execution_count": 200,
   "id": "bfef5c1f",
   "metadata": {},
   "outputs": [
    {
     "data": {
      "text/html": [
       "<div>\n",
       "<style scoped>\n",
       "    .dataframe tbody tr th:only-of-type {\n",
       "        vertical-align: middle;\n",
       "    }\n",
       "\n",
       "    .dataframe tbody tr th {\n",
       "        vertical-align: top;\n",
       "    }\n",
       "\n",
       "    .dataframe thead th {\n",
       "        text-align: right;\n",
       "    }\n",
       "</style>\n",
       "<table border=\"1\" class=\"dataframe\">\n",
       "  <thead>\n",
       "    <tr style=\"text-align: right;\">\n",
       "      <th></th>\n",
       "      <th>Quantity Ordered</th>\n",
       "    </tr>\n",
       "    <tr>\n",
       "      <th>Product</th>\n",
       "      <th></th>\n",
       "    </tr>\n",
       "  </thead>\n",
       "  <tbody>\n",
       "    <tr>\n",
       "      <th>AAA Batteries (4-pack)</th>\n",
       "      <td>62034</td>\n",
       "    </tr>\n",
       "    <tr>\n",
       "      <th>AA Batteries (4-pack)</th>\n",
       "      <td>55270</td>\n",
       "    </tr>\n",
       "    <tr>\n",
       "      <th>USB-C Charging Cable</th>\n",
       "      <td>47950</td>\n",
       "    </tr>\n",
       "    <tr>\n",
       "      <th>Lightning Charging Cable</th>\n",
       "      <td>46434</td>\n",
       "    </tr>\n",
       "    <tr>\n",
       "      <th>Wired Headphones</th>\n",
       "      <td>41114</td>\n",
       "    </tr>\n",
       "  </tbody>\n",
       "</table>\n",
       "</div>"
      ],
      "text/plain": [
       "                          Quantity Ordered\n",
       "Product                                   \n",
       "AAA Batteries (4-pack)               62034\n",
       "AA Batteries (4-pack)                55270\n",
       "USB-C Charging Cable                 47950\n",
       "Lightning Charging Cable             46434\n",
       "Wired Headphones                     41114"
      ]
     },
     "execution_count": 200,
     "metadata": {},
     "output_type": "execute_result"
    }
   ],
   "source": [
    "# group product name \n",
    "most_sell_product = pd.DataFrame(df.groupby('Product').sum()['Quantity Ordered'])\n",
    "# sort the list in descending format\n",
    "most_sell_product = most_sell_product.sort_values('Quantity Ordered',ascending=False)\n",
    "# top 5 most selling product \n",
    "most_sell_product[:5]"
   ]
  },
  {
   "cell_type": "markdown",
   "id": "e4e6522f",
   "metadata": {},
   "source": [
    "<h4>The most selling products are AAA Batteries, AA Batteries, USB-C Charging Cable, Lightning Charging Cable, and Wired Headphones. "
   ]
  },
  {
   "cell_type": "markdown",
   "id": "78a51763",
   "metadata": {},
   "source": [
    "_____"
   ]
  },
  {
   "cell_type": "markdown",
   "id": "e710a22f",
   "metadata": {},
   "source": [
    "<h3>What City had the highest number of sales?"
   ]
  },
  {
   "cell_type": "code",
   "execution_count": 207,
   "id": "2ae74ec8",
   "metadata": {},
   "outputs": [
    {
     "data": {
      "image/png": "[encoded data removed]",
      "text/plain": [
       "<Figure size 1728x1008 with 1 Axes>"
      ]
     },
     "metadata": {
      "needs_background": "light"
     },
     "output_type": "display_data"
    }
   ],
   "source": [
    "highest_number_of_sales = pd.DataFrame(df.groupby('Cities').sum().astype('int'))\n",
    "# plot the bar graph\n",
    "plt.figure(figsize=(24, 14))\n",
    "\n",
    "sns.barplot( \n",
    "    x=highest_number_of_sales.index, \n",
    "    y=highest_number_of_sales[\"Sales\"], \n",
    "    data=highest_number_of_sales, \n",
    "    palette=\"Paired\" )\n",
    "\n",
    "# graph customization \n",
    "\n",
    "plt.title( \n",
    "    \"What City had the highest number of Sales?\", \n",
    "    weight=\"bold\", \n",
    "    fontsize=35, \n",
    "    pad=30 )\n",
    "plt.xlabel( \n",
    "    \"Cities\", \n",
    "    weight=\"bold\", \n",
    "    color=\"red\", \n",
    "    fontsize=25, \n",
    "    loc=\"center\" )\n",
    "plt.xticks( \n",
    "    weight=\"bold\", \n",
    "    fontsize=15, \n",
    "    rotation=10)\n",
    "plt.ylabel( \n",
    "    \"Sales in USD ($)\", \n",
    "    weight=\"bold\", \n",
    "    color=\"orange\", \n",
    "    fontsize=20 )\n",
    "plt.yticks( \n",
    "    weight=\"bold\", \n",
    "    fontsize=15 );"
   ]
  },
  {
   "cell_type": "markdown",
   "id": "9b8c9cbf",
   "metadata": {},
   "source": [
    "<h4> Turns out San Francisco has the most sales through year 2019, follows by Los Angeles and New York City. "
   ]
  },
  {
   "cell_type": "markdown",
   "id": "96bc36c1",
   "metadata": {},
   "source": [
    "______"
   ]
  },
  {
   "cell_type": "markdown",
   "id": "bb7770ec",
   "metadata": {},
   "source": [
    "<h3>What products are most often sold together?"
   ]
  },
  {
   "cell_type": "code",
   "execution_count": 262,
   "id": "2b157f47",
   "metadata": {},
   "outputs": [
    {
     "name": "stdout",
     "output_type": "stream",
     "text": [
      "('iPhone', 'Lightning Charging Cable') 1005\n",
      "('Google Phone', 'USB-C Charging Cable') 987\n",
      "('iPhone', 'Wired Headphones') 447\n",
      "('Google Phone', 'Wired Headphones') 414\n",
      "('Vareebadd Phone', 'USB-C Charging Cable') 361\n"
     ]
    },
    {
     "name": "stderr",
     "output_type": "stream",
     "text": [
      "/var/folders/_8/jzy93qd56j19jbctrb2wqlxw0000gn/T/ipykernel_16395/456889227.py:8: SettingWithCopyWarning: \n",
      "A value is trying to be set on a copy of a slice from a DataFrame.\n",
      "Try using .loc[row_indexer,col_indexer] = value instead\n",
      "\n",
      "See the caveats in the documentation: https://pandas.pydata.org/pandas-docs/stable/user_guide/indexing.html#returning-a-view-versus-a-copy\n",
      "  bundled['Grouped'] = df.groupby('Order ID')['Product'].transform(lambda x: ','.join(x))\n"
     ]
    }
   ],
   "source": [
    "# import libraries \n",
    "from itertools import combinations\n",
    "from collections import Counter\n",
    "\n",
    "# drop duplicates \n",
    "bundled = df[df['Order ID'].duplicated(keep=False)]\n",
    "\n",
    "bundled['Grouped'] = df.groupby('Order ID')['Product'].transform(lambda x: ','.join(x))\n",
    "\n",
    "bundled = bundled[['Order ID', 'Grouped']].drop_duplicates()\n",
    "\n",
    "count = Counter()\n",
    "# make a for loop\n",
    "for row in bundled['Grouped']:\n",
    "    row_list = row.split(',')\n",
    "    count.update(Counter(combinations(row_list, 2)))\n",
    "# and make another for loop    \n",
    "for key, value in count.most_common(5):\n",
    "    print(key, value)\n"
   ]
  },
  {
   "cell_type": "markdown",
   "id": "935f0b24",
   "metadata": {},
   "source": [
    "The 5 most sold pairs are \n",
    "- iPhone and Lightning Charging Cable\n",
    "- Google Phone and USB-C Charging Cable\n",
    "- iPhone and Wired Headphones\n",
    "- Google Phone and Wired Headphones\n",
    "- Vareebadd Phone and USB-C Charging Cable\n",
    "    \n",
    "It is recommended to sell the products in pairs. "
   ]
  },
  {
   "cell_type": "code",
   "execution_count": null,
   "id": "502beeee",
   "metadata": {},
   "outputs": [],
   "source": []
  }
 ],
 "metadata": {
  "kernelspec": {
   "display_name": "Python 3 (ipykernel)",
   "language": "python",
   "name": "python3"
  },
  "language_info": {
   "codemirror_mode": {
    "name": "ipython",
    "version": 3
   },
   "file_extension": ".py",
   "mimetype": "text/x-python",
   "name": "python",
   "nbconvert_exporter": "python",
   "pygments_lexer": "ipython3",
   "version": "3.9.12"
  }
 },
 "nbformat": 4,
 "nbformat_minor": 5
}
